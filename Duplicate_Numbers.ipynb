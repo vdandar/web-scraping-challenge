{
 "cells": [
  {
   "cell_type": "markdown",
   "metadata": {},
   "source": [
    "# Duplicate Numbers\n",
    "\n",
    "#### Challenge 1: Print all numbers with duplicates\n",
    "#### Challenge 2: Print only the numbers that were seen once\n",
    "#### Challenge 3: Count the number of duplicates"
   ]
  },
  {
   "cell_type": "code",
   "execution_count": 19,
   "metadata": {},
   "outputs": [],
   "source": [
    "numbers = [1, 6, 6, 3, 3, 3, 4]"
   ]
  },
  {
   "cell_type": "markdown",
   "metadata": {},
   "source": [
    "### YOUR CODE HERE"
   ]
  },
  {
   "cell_type": "code",
   "execution_count": null,
   "metadata": {},
   "outputs": [],
   "source": [
    "!pip install iteration_utilities"
   ]
  },
  {
   "cell_type": "code",
   "execution_count": 20,
   "metadata": {},
   "outputs": [],
   "source": [
    "from iteration_utilities import duplicates, unique_everseen\n",
    "from collections import Counter\n",
    "import pandas as pd\n",
    "import itertools"
   ]
  },
  {
   "cell_type": "code",
   "execution_count": 26,
   "metadata": {},
   "outputs": [
    {
     "data": {
      "text/plain": [
       "[6, 3]"
      ]
     },
     "execution_count": 26,
     "metadata": {},
     "output_type": "execute_result"
    }
   ],
   "source": [
    "numbers = [1, 6, 6, 3, 3, 3, 4]\n",
    "\n",
    "def georg_counter(numbers):\n",
    "    return [item for item, count in Counter(numbers).items() if count > 1]\n",
    "\n",
    "georg_counter(numbers)"
   ]
  },
  {
   "cell_type": "code",
   "execution_count": 40,
   "metadata": {},
   "outputs": [
    {
     "data": {
      "text/plain": [
       "[1, 4]"
      ]
     },
     "execution_count": 40,
     "metadata": {},
     "output_type": "execute_result"
    }
   ],
   "source": [
    "numbers = [1, 6, 6, 3, 3, 3, 4]\n",
    "\n",
    "def georg_counter2(numbers):\n",
    "    return [item for item, count in Counter(numbers).items() if count < 2]\n",
    "\n",
    "georg_counter2(numbers)"
   ]
  },
  {
   "cell_type": "code",
   "execution_count": 19,
   "metadata": {},
   "outputs": [
    {
     "data": {
      "text/plain": [
       "{'1': 1, '6': 2, '3': 3, '4': 1}"
      ]
     },
     "execution_count": 19,
     "metadata": {},
     "output_type": "execute_result"
    }
   ],
   "source": [
    "numbers = [1, 6, 6, 3, 3, 3, 4]\n",
    "def georg_set3(numbers):\n",
    "    seen = {}\n",
    "    dupes = []\n",
    "\n",
    "    for x in numbers:\n",
    "        if f\"{x}\" not in seen:\n",
    "            seen[f\"{x}\"] = 1\n",
    "        else:\n",
    "            if seen[f\"{x}\"]  == 1:\n",
    "                dupes.append(x)\n",
    "            seen[f\"{x}\"]  += 1   \n",
    "            \n",
    "    return seen\n",
    "\n",
    "georg_set3 (numbers)"
   ]
  },
  {
   "cell_type": "code",
   "execution_count": 29,
   "metadata": {},
   "outputs": [
    {
     "name": "stdout",
     "output_type": "stream",
     "text": [
      "6 is counted 2 times\n",
      "3 is counted 3 times\n"
     ]
    }
   ],
   "source": [
    "##for loop to cycle through the dupes and save number of seen occurances for each duplicate number\n",
    "dupe_count= georg_set3(numbers)\n",
    "\n",
    "for x in (dupe_count):\n",
    "        if dupe_count[f\"{x}\"]  > 1:\n",
    "            print (f\"{x} is counted {dupe_count[f'{x}']} times\")\n",
    "\n",
    "   \n"
   ]
  },
  {
   "cell_type": "code",
   "execution_count": null,
   "metadata": {},
   "outputs": [],
   "source": []
  },
  {
   "cell_type": "code",
   "execution_count": null,
   "metadata": {},
   "outputs": [],
   "source": []
  }
 ],
 "metadata": {
  "kernelspec": {
   "display_name": "Python 3",
   "language": "python",
   "name": "python3"
  },
  "language_info": {
   "codemirror_mode": {
    "name": "ipython",
    "version": 3
   },
   "file_extension": ".py",
   "mimetype": "text/x-python",
   "name": "python",
   "nbconvert_exporter": "python",
   "pygments_lexer": "ipython3",
   "version": "3.8.3"
  },
  "varInspector": {
   "cols": {
    "lenName": 16,
    "lenType": 16,
    "lenVar": 40
   },
   "kernels_config": {
    "python": {
     "delete_cmd_postfix": "",
     "delete_cmd_prefix": "del ",
     "library": "var_list.py",
     "varRefreshCmd": "print(var_dic_list())"
    },
    "r": {
     "delete_cmd_postfix": ") ",
     "delete_cmd_prefix": "rm(",
     "library": "var_list.r",
     "varRefreshCmd": "cat(var_dic_list()) "
    }
   },
   "types_to_exclude": [
    "module",
    "function",
    "builtin_function_or_method",
    "instance",
    "_Feature"
   ],
   "window_display": false
  }
 },
 "nbformat": 4,
 "nbformat_minor": 2
}
