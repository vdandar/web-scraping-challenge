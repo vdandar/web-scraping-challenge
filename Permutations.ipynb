{
 "cells": [
  {
   "cell_type": "markdown",
   "metadata": {},
   "source": [
    "# String Permutations\n",
    "\n",
    "Given two strings, write a function to check if one string is a permutation of the other\n",
    "\n",
    "Example:\n",
    "```\n",
    "check_permutation(\"abc\", \"bca\")  # True\n",
    "check_permutation(\"abc\", \"abcd\") # False\n",
    "```"
   ]
  },
  {
   "cell_type": "markdown",
   "metadata": {},
   "source": [
    "### YOUR CODE HERE"
   ]
  },
  {
   "cell_type": "code",
   "execution_count": null,
   "metadata": {},
   "outputs": [],
   "source": [
    "##To begin, the second can notbe a permutation as the string lengths are not the same.\n",
    "##The following code allows for the check of the first and second example.\n"
   ]
  },
  {
   "cell_type": "code",
   "execution_count": 2,
   "metadata": {},
   "outputs": [
    {
     "data": {
      "text/plain": [
       "True"
      ]
     },
     "execution_count": 2,
     "metadata": {},
     "output_type": "execute_result"
    }
   ],
   "source": [
    "str1= \"abc\"\n",
    "str2= \"bca\"\n",
    "\n",
    "def arePermutation(str1, str2): \n",
    "    \n",
    "    # Get lenghts of both strings \n",
    "    n1 = len(str1) \n",
    "    n2 = len(str2) \n",
    "  \n",
    "    # If length of both strings is not same, \n",
    "    # then they cannot be Permutation \n",
    "    if (n1 != n2): \n",
    "        return False\n",
    "  \n",
    "    # Sort both strings \n",
    "    a = sorted(str1) \n",
    "    str1 = \" \".join(a) \n",
    "    b = sorted(str2) \n",
    "    str2 = \" \".join(b) \n",
    "  \n",
    "    # Compare sorted strings \n",
    "    for i in range(0, n1, 1): \n",
    "        if (str1[i] != str2[i]): \n",
    "            return False\n",
    "  \n",
    "    return True\n",
    "\n",
    "arePermutation(str1,str2)\n"
   ]
  },
  {
   "cell_type": "code",
   "execution_count": 3,
   "metadata": {},
   "outputs": [
    {
     "data": {
      "text/plain": [
       "False"
      ]
     },
     "execution_count": 3,
     "metadata": {},
     "output_type": "execute_result"
    }
   ],
   "source": [
    "str1= \"abc\"\n",
    "str2= \"abcd\"\n",
    "\n",
    "def arePermutation(str1, str2): \n",
    "    \n",
    "    # Get lenghts of both strings \n",
    "    n1 = len(str1) \n",
    "    n2 = len(str2) \n",
    "  \n",
    "    # If length of both strings is not same, \n",
    "    # then they cannot be Permutation \n",
    "    if (n1 != n2): \n",
    "        return False\n",
    "  \n",
    "    # Sort both strings \n",
    "    a = sorted(str1) \n",
    "    str1 = \" \".join(a) \n",
    "    b = sorted(str2) \n",
    "    str2 = \" \".join(b) \n",
    "  \n",
    "    # Compare sorted strings \n",
    "    for i in range(0, n1, 1): \n",
    "        if (str1[i] != str2[i]): \n",
    "            return False\n",
    "  \n",
    "    return True\n",
    "\n",
    "arePermutation(str1,str2)"
   ]
  },
  {
   "cell_type": "code",
   "execution_count": null,
   "metadata": {},
   "outputs": [],
   "source": []
  }
 ],
 "metadata": {
  "kernelspec": {
   "display_name": "Python 3",
   "language": "python",
   "name": "python3"
  },
  "language_info": {
   "codemirror_mode": {
    "name": "ipython",
    "version": 3
   },
   "file_extension": ".py",
   "mimetype": "text/x-python",
   "name": "python",
   "nbconvert_exporter": "python",
   "pygments_lexer": "ipython3",
   "version": "3.8.3"
  },
  "varInspector": {
   "cols": {
    "lenName": 16,
    "lenType": 16,
    "lenVar": 40
   },
   "kernels_config": {
    "python": {
     "delete_cmd_postfix": "",
     "delete_cmd_prefix": "del ",
     "library": "var_list.py",
     "varRefreshCmd": "print(var_dic_list())"
    },
    "r": {
     "delete_cmd_postfix": ") ",
     "delete_cmd_prefix": "rm(",
     "library": "var_list.r",
     "varRefreshCmd": "cat(var_dic_list()) "
    }
   },
   "types_to_exclude": [
    "module",
    "function",
    "builtin_function_or_method",
    "instance",
    "_Feature"
   ],
   "window_display": false
  }
 },
 "nbformat": 4,
 "nbformat_minor": 2
}
